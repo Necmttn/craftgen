{
 "cells": [
  {
   "cell_type": "code",
   "execution_count": 7,
   "id": "bbb6b58e-31ee-4564-81e6-43365a1a9fc8",
   "metadata": {},
   "outputs": [
    {
     "name": "stdout",
     "output_type": "stream",
     "text": [
      "[\n",
      "  { letter: \u001b[32m\"A\"\u001b[39m, frequency: \u001b[33m0.08167\u001b[39m },\n",
      "  { letter: \u001b[32m\"B\"\u001b[39m, frequency: \u001b[33m2.01492\u001b[39m },\n",
      "  { letter: \u001b[32m\"C\"\u001b[39m, frequency: \u001b[33m0.02782\u001b[39m },\n",
      "  { letter: \u001b[32m\"D\"\u001b[39m, frequency: \u001b[33m0.04253\u001b[39m },\n",
      "  { letter: \u001b[32m\"E\"\u001b[39m, frequency: \u001b[33m0.12702\u001b[39m },\n",
      "  { letter: \u001b[32m\"F\"\u001b[39m, frequency: \u001b[33m0.02228\u001b[39m },\n",
      "  { letter: \u001b[32m\"G\"\u001b[39m, frequency: \u001b[33m0.02015\u001b[39m },\n",
      "  { letter: \u001b[32m\"H\"\u001b[39m, frequency: \u001b[33m0.06094\u001b[39m },\n",
      "  { letter: \u001b[32m\"I\"\u001b[39m, frequency: \u001b[33m0.06966\u001b[39m },\n",
      "  { letter: \u001b[32m\"J\"\u001b[39m, frequency: \u001b[33m0.00153\u001b[39m },\n",
      "  { letter: \u001b[32m\"K\"\u001b[39m, frequency: \u001b[33m0.00772\u001b[39m },\n",
      "  { letter: \u001b[32m\"L\"\u001b[39m, frequency: \u001b[33m0.04025\u001b[39m },\n",
      "  { letter: \u001b[32m\"M\"\u001b[39m, frequency: \u001b[33m0.02406\u001b[39m },\n",
      "  { letter: \u001b[32m\"N\"\u001b[39m, frequency: \u001b[33m0.06749\u001b[39m },\n",
      "  { letter: \u001b[32m\"O\"\u001b[39m, frequency: \u001b[33m0.07507\u001b[39m },\n",
      "  { letter: \u001b[32m\"P\"\u001b[39m, frequency: \u001b[33m0.01929\u001b[39m },\n",
      "  { letter: \u001b[32m\"Q\"\u001b[39m, frequency: \u001b[33m0.00095\u001b[39m },\n",
      "  { letter: \u001b[32m\"R\"\u001b[39m, frequency: \u001b[33m0.05987\u001b[39m },\n",
      "  { letter: \u001b[32m\"S\"\u001b[39m, frequency: \u001b[33m0.06327\u001b[39m },\n",
      "  { letter: \u001b[32m\"T\"\u001b[39m, frequency: \u001b[33m0.09056\u001b[39m },\n",
      "  { letter: \u001b[32m\"U\"\u001b[39m, frequency: \u001b[33m0.02758\u001b[39m },\n",
      "  { letter: \u001b[32m\"V\"\u001b[39m, frequency: \u001b[33m0.00978\u001b[39m },\n",
      "  { letter: \u001b[32m\"W\"\u001b[39m, frequency: \u001b[33m0.0236\u001b[39m },\n",
      "  { letter: \u001b[32m\"X\"\u001b[39m, frequency: \u001b[33m0.0015\u001b[39m },\n",
      "  { letter: \u001b[32m\"Y\"\u001b[39m, frequency: \u001b[33m0.01974\u001b[39m },\n",
      "  { letter: \u001b[32m\"Z\"\u001b[39m, frequency: \u001b[33m0.00074\u001b[39m }\n",
      "]\n"
     ]
    }
   ],
   "source": [
    "const alphabet = [{\"letter\":\"A\",\"frequency\":0.08167},{\"letter\":\"B\",\"frequency\":2.01492},{\"letter\":\"C\",\"frequency\":0.02782},{\"letter\":\"D\",\"frequency\":0.04253},{\"letter\":\"E\",\"frequency\":0.12702},{\"letter\":\"F\",\"frequency\":0.02228},{\"letter\":\"G\",\"frequency\":0.02015},{\"letter\":\"H\",\"frequency\":0.06094},{\"letter\":\"I\",\"frequency\":0.06966},{\"letter\":\"J\",\"frequency\":0.00153},{\"letter\":\"K\",\"frequency\":0.00772},{\"letter\":\"L\",\"frequency\":0.04025},{\"letter\":\"M\",\"frequency\":0.02406},{\"letter\":\"N\",\"frequency\":0.06749},{\"letter\":\"O\",\"frequency\":0.07507},{\"letter\":\"P\",\"frequency\":0.01929},{\"letter\":\"Q\",\"frequency\":0.00095},{\"letter\":\"R\",\"frequency\":0.05987},{\"letter\":\"S\",\"frequency\":0.06327},{\"letter\":\"T\",\"frequency\":0.09056},{\"letter\":\"U\",\"frequency\":0.02758},{\"letter\":\"V\",\"frequency\":0.00978},{\"letter\":\"W\",\"frequency\":0.0236},{\"letter\":\"X\",\"frequency\":0.0015},{\"letter\":\"Y\",\"frequency\":0.01974},{\"letter\":\"Z\",\"frequency\":0.00074}]\n",
    "console.log(alphabet)\n"
   ]
  },
  {
   "cell_type": "code",
   "execution_count": 8,
   "id": "e3d00698-49a2-4821-bcfd-8b45ee315acc",
   "metadata": {},
   "outputs": [
    {
     "data": {
      "image/svg+xml": [
       "<svg viewBox=\"0 0 640 400\" height=\"400\" width=\"640\" text-anchor=\"middle\" font-size=\"10\" font-family=\"system-ui, sans-serif\" fill=\"currentColor\" class=\"plot-d6a7b5\"><style>:where(.plot-d6a7b5) {\n",
       "  --plot-background: white;\n",
       "  display: block;\n",
       "  height: auto;\n",
       "  height: intrinsic;\n",
       "  max-width: 100%;\n",
       "}\n",
       ":where(.plot-d6a7b5 text),\n",
       ":where(.plot-d6a7b5 tspan) {\n",
       "  white-space: pre;\n",
       "}</style><g stroke=\"currentColor\" fill=\"none\" aria-hidden=\"true\" aria-label=\"y-axis tick\"><path d=\"M0,0L-6,0\" transform=\"translate(40,370)\" /><path d=\"M0,0L-6,0\" transform=\"translate(40,335.25916661703695)\" /><path d=\"M0,0L-6,0\" transform=\"translate(40,300.5183332340738)\" /><path d=\"M0,0L-6,0\" transform=\"translate(40,265.77749985111075)\" /><path d=\"M0,0L-6,0\" transform=\"translate(40,231.0366664681476)\" /><path d=\"M0,0L-6,0\" transform=\"translate(40,196.29583308518454)\" /><path d=\"M0,0L-6,0\" transform=\"translate(40,161.55499970222144)\" /><path d=\"M0,0L-6,0\" transform=\"translate(40,126.81416631925835)\" /><path d=\"M0,0L-6,0\" transform=\"translate(40,92.07333293629522)\" /><path d=\"M0,0L-6,0\" transform=\"translate(40,57.33249955333214)\" /><path d=\"M0,0L-6,0\" transform=\"translate(40,22.591666170369063)\" /></g><g transform=\"translate(-9,0)\" font-variant=\"tabular-nums\" text-anchor=\"end\" aria-label=\"y-axis tick label\"><text transform=\"translate(40,370)\" y=\"0.32em\">0.0</text><text transform=\"translate(40,335.25916661703695)\" y=\"0.32em\">0.2</text><text transform=\"translate(40,300.5183332340738)\" y=\"0.32em\">0.4</text><text transform=\"translate(40,265.77749985111075)\" y=\"0.32em\">0.6</text><text transform=\"translate(40,231.0366664681476)\" y=\"0.32em\">0.8</text><text transform=\"translate(40,196.29583308518454)\" y=\"0.32em\">1.0</text><text transform=\"translate(40,161.55499970222144)\" y=\"0.32em\">1.2</text><text transform=\"translate(40,126.81416631925835)\" y=\"0.32em\">1.4</text><text transform=\"translate(40,92.07333293629522)\" y=\"0.32em\">1.6</text><text transform=\"translate(40,57.33249955333214)\" y=\"0.32em\">1.8</text><text transform=\"translate(40,22.591666170369063)\" y=\"0.32em\">2.0</text></g><g transform=\"translate(-37,-17)\" text-anchor=\"start\" aria-label=\"y-axis label\"><text transform=\"translate(40,20)\" y=\"0.71em\">↑ frequency</text></g><g transform=\"translate(10,0)\" stroke=\"currentColor\" fill=\"none\" aria-hidden=\"true\" aria-label=\"x-axis tick\"><path d=\"M0,0L0,6\" transform=\"translate(45,370)\" /><path d=\"M0,0L0,6\" transform=\"translate(67,370)\" /><path d=\"M0,0L0,6\" transform=\"translate(89,370)\" /><path d=\"M0,0L0,6\" transform=\"translate(111,370)\" /><path d=\"M0,0L0,6\" transform=\"translate(133,370)\" /><path d=\"M0,0L0,6\" transform=\"translate(155,370)\" /><path d=\"M0,0L0,6\" transform=\"translate(177,370)\" /><path d=\"M0,0L0,6\" transform=\"translate(199,370)\" /><path d=\"M0,0L0,6\" transform=\"translate(221,370)\" /><path d=\"M0,0L0,6\" transform=\"translate(243,370)\" /><path d=\"M0,0L0,6\" transform=\"translate(265,370)\" /><path d=\"M0,0L0,6\" transform=\"translate(287,370)\" /><path d=\"M0,0L0,6\" transform=\"translate(309,370)\" /><path d=\"M0,0L0,6\" transform=\"translate(331,370)\" /><path d=\"M0,0L0,6\" transform=\"translate(353,370)\" /><path d=\"M0,0L0,6\" transform=\"translate(375,370)\" /><path d=\"M0,0L0,6\" transform=\"translate(397,370)\" /><path d=\"M0,0L0,6\" transform=\"translate(419,370)\" /><path d=\"M0,0L0,6\" transform=\"translate(441,370)\" /><path d=\"M0,0L0,6\" transform=\"translate(463,370)\" /><path d=\"M0,0L0,6\" transform=\"translate(485,370)\" /><path d=\"M0,0L0,6\" transform=\"translate(507,370)\" /><path d=\"M0,0L0,6\" transform=\"translate(529,370)\" /><path d=\"M0,0L0,6\" transform=\"translate(551,370)\" /><path d=\"M0,0L0,6\" transform=\"translate(573,370)\" /><path d=\"M0,0L0,6\" transform=\"translate(595,370)\" /></g><g transform=\"translate(10,9)\" aria-label=\"x-axis tick label\"><text transform=\"translate(45,370)\" y=\"0.71em\">A</text><text transform=\"translate(67,370)\" y=\"0.71em\">B</text><text transform=\"translate(89,370)\" y=\"0.71em\">C</text><text transform=\"translate(111,370)\" y=\"0.71em\">D</text><text transform=\"translate(133,370)\" y=\"0.71em\">E</text><text transform=\"translate(155,370)\" y=\"0.71em\">F</text><text transform=\"translate(177,370)\" y=\"0.71em\">G</text><text transform=\"translate(199,370)\" y=\"0.71em\">H</text><text transform=\"translate(221,370)\" y=\"0.71em\">I</text><text transform=\"translate(243,370)\" y=\"0.71em\">J</text><text transform=\"translate(265,370)\" y=\"0.71em\">K</text><text transform=\"translate(287,370)\" y=\"0.71em\">L</text><text transform=\"translate(309,370)\" y=\"0.71em\">M</text><text transform=\"translate(331,370)\" y=\"0.71em\">N</text><text transform=\"translate(353,370)\" y=\"0.71em\">O</text><text transform=\"translate(375,370)\" y=\"0.71em\">P</text><text transform=\"translate(397,370)\" y=\"0.71em\">Q</text><text transform=\"translate(419,370)\" y=\"0.71em\">R</text><text transform=\"translate(441,370)\" y=\"0.71em\">S</text><text transform=\"translate(463,370)\" y=\"0.71em\">T</text><text transform=\"translate(485,370)\" y=\"0.71em\">U</text><text transform=\"translate(507,370)\" y=\"0.71em\">V</text><text transform=\"translate(529,370)\" y=\"0.71em\">W</text><text transform=\"translate(551,370)\" y=\"0.71em\">X</text><text transform=\"translate(573,370)\" y=\"0.71em\">Y</text><text transform=\"translate(595,370)\" y=\"0.71em\">Z</text></g><g transform=\"translate(0,27)\" aria-label=\"x-axis label\"><text transform=\"translate(330,370)\">letter</text></g><g aria-label=\"bar\"><rect height=\"14.18641931193298\" y=\"355.813580688067\" width=\"20\" x=\"45\" /><rect height=\"350\" y=\"20\" width=\"20\" x=\"67\" /><rect height=\"4.832449923570152\" y=\"365.16755007642985\" width=\"20\" x=\"89\" /><rect height=\"7.387638218887105\" y=\"362.6123617811129\" width=\"20\" x=\"111\" /><rect height=\"22.063903281519913\" y=\"347.9360967184801\" width=\"20\" x=\"133\" /><rect height=\"3.870128838862115\" y=\"366.1298711611379\" width=\"20\" x=\"155\" /><rect height=\"3.5001389633335407\" y=\"366.49986103666646\" width=\"20\" x=\"177\" /><rect height=\"10.585531931788864\" y=\"359.41446806821114\" width=\"20\" x=\"199\" /><rect height=\"12.10023226728606\" y=\"357.89976773271394\" width=\"20\" x=\"221\" /><rect height=\"0.265767375379653\" y=\"369.73423262462035\" width=\"20\" x=\"243\" /><rect height=\"1.3409961685823646\" y=\"368.65900383141764\" width=\"20\" x=\"265\" /><rect height=\"6.9915927183213284\" y=\"363.00840728167867\" width=\"20\" x=\"287\" /><rect height=\"4.179322255970419\" y=\"365.8206777440296\" width=\"20\" x=\"309\" /><rect height=\"11.72329422508085\" y=\"358.27670577491915\" width=\"20\" x=\"331\" /><rect height=\"13.039971810295185\" y=\"356.9600281897048\" width=\"20\" x=\"353\" /><rect height=\"3.350753379786795\" y=\"366.6492466202132\" width=\"20\" x=\"375\" /><rect height=\"0.16501895856907822\" y=\"369.8349810414309\" width=\"20\" x=\"397\" /><rect height=\"10.39966847318999\" y=\"359.60033152681\" width=\"20\" x=\"419\" /><rect height=\"10.990262640700394\" y=\"359.0097373592996\" width=\"20\" x=\"441\" /><rect height=\"15.730649355805724\" y=\"354.2693506441943\" width=\"20\" x=\"463\" /><rect height=\"4.790760923510618\" y=\"365.2092390764894\" width=\"20\" x=\"485\" /><rect height=\"1.6988267524268963\" y=\"368.3011732475731\" width=\"20\" x=\"507\" /><rect height=\"4.09941833918964\" y=\"365.90058166081036\" width=\"20\" x=\"529\" /><rect height=\"0.2605562503721899\" y=\"369.7394437496278\" width=\"20\" x=\"551\" /><rect height=\"3.4289202548984576\" y=\"366.57107974510154\" width=\"20\" x=\"573\" /><rect height=\"0.12854108351700688\" y=\"369.871458916483\" width=\"20\" x=\"595\" /></g></svg>"
      ]
     },
     "metadata": {},
     "output_type": "display_data"
    }
   ],
   "source": [
    "import * as Plot from \"npm:@observablehq/plot\"\n",
    "\n",
    "import { DOMParser, SVGElement } from \"npm:linkedom\";\n",
    "const document = new DOMParser().parseFromString(\n",
    "  `<!DOCTYPE html><html lang=\"en\"></html>`,\n",
    "  \"text/html\",\n",
    ");\n",
    "\n",
    "await Deno.jupyter.display(\n",
    "    Plot.barY(alphabet, {x: \"letter\", y: \"frequency\"}).plot({document})\n",
    ")"
   ]
  }
 ],
 "metadata": {
  "kernelspec": {
   "display_name": "Deno",
   "language": "typescript",
   "name": "deno"
  },
  "language_info": {
   "codemirror_mode": "typescript",
   "file_extension": ".ts",
   "mimetype": "text/x.typescript",
   "name": "typescript",
   "nbconvert_exporter": "script",
   "pygments_lexer": "typescript",
   "version": "5.5.2"
  }
 },
 "nbformat": 4,
 "nbformat_minor": 5
}
